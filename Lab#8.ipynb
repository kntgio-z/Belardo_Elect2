{
  "cells": [
    {
      "cell_type": "markdown",
      "metadata": {
        "colab_type": "text",
        "id": "view-in-github"
      },
      "source": [
        "<a href=\"https://colab.research.google.com/github/kntgio-z/Belardo_Elect2/blob/main/Lab%238.ipynb\" target=\"_parent\"><img src=\"https://colab.research.google.com/assets/colab-badge.svg\" alt=\"Open In Colab\"/></a>"
      ]
    },
    {
      "cell_type": "markdown",
      "metadata": {
        "id": "srh-jxfuEgBu"
      },
      "source": [
        "# Lab8\n",
        "\n",
        "- Implement a complete ML pipeline to predict possible delays in the future for at least 2 airports given the dataset on departure delays.\n",
        "- Interpret model evaluation results."
      ]
    },
    {
      "cell_type": "markdown",
      "metadata": {
        "id": "6SdWsKodD_95"
      },
      "source": [
        "## Preprocesssing\n",
        "\n",
        "We just copied this boilerplate from the lab 6."
      ]
    },
    {
      "cell_type": "markdown",
      "metadata": {
        "id": "eygLgNcDE6DH"
      },
      "source": [
        "### Loading datasets"
      ]
    },
    {
      "cell_type": "code",
      "execution_count": null,
      "metadata": {
        "id": "zdqod3YuwvQH"
      },
      "outputs": [],
      "source": [
        "from pyspark.sql import SparkSession\n",
        "from pyspark.sql.functions import expr\n",
        "\n",
        "# Initialize Spark Session\n",
        "spark = SparkSession.builder.appName(\"Lab6\").getOrCreate()\n",
        "\n",
        "prefix = \"./data/\"\n",
        "\n",
        "tripdelaysFilePath = prefix + \"departuredelays.csv\"\n",
        "airportsnaFilePath = prefix + \"airport-codes-na.txt\"\n",
        "\n",
        "# Obtain airports data set\n",
        "airportsna = (spark.read.format(\"csv\").options(header=\"true\", inferSchema=\"true\", sep=\"\\t\").load(airportsnaFilePath))\n",
        "airportsna.createOrReplaceTempView(\"airports_na\")\n",
        "\n",
        "# Obtain departure delays data set\n",
        "departureDelays = (spark.read.format(\"csv\").options(header=\"true\").load(tripdelaysFilePath))\n",
        "departureDelays = departureDelays.withColumn(\"delay\", expr(\"CAST(delay as INT) as delay\"))\n",
        "departureDelays = departureDelays.withColumn(\"distance\", expr(\"CAST(distance as INT) as distance\"))\n",
        "departureDelays.createOrReplaceTempView(\"departureDelays\")\n"
      ]
    },
    {
      "cell_type": "markdown",
      "metadata": {
        "id": "fJDFEYLFERX5"
      },
      "source": [
        "### Perform SQL Join"
      ]
    },
    {
      "cell_type": "code",
      "execution_count": null,
      "metadata": {
        "colab": {
          "base_uri": "https://localhost:8080/"
        },
        "collapsed": true,
        "id": "jYFqKZHJEVXS",
        "outputId": "2ea8198e-a580-4c34-9b9f-c696144cf927"
      },
      "outputs": [
        {
          "name": "stdout",
          "output_type": "stream",
          "text": [
            "+--------+-----+--------+-----------+----------------+\n",
            "|    date|delay|distance|origin_city|destination_city|\n",
            "+--------+-----+--------+-----------+----------------+\n",
            "|01011245|    6|     602|  Allentown|         Atlanta|\n",
            "|01020600|   -8|     369|  Allentown|         Detroit|\n",
            "|01021245|   -2|     602|  Allentown|         Atlanta|\n",
            "|01020605|   -4|     602|  Allentown|         Atlanta|\n",
            "|01031245|   -4|     602|  Allentown|         Atlanta|\n",
            "+--------+-----+--------+-----------+----------------+\n",
            "only showing top 5 rows\n",
            "\n"
          ]
        }
      ],
      "source": [
        "from pyspark.sql.functions import col\n",
        "\n",
        "# Join departureDelays with airportsna to get origin city details\n",
        "combined = departureDelays \\\n",
        "    .join(airportsna.alias(\"o\"), departureDelays[\"origin\"] == col(\"o.IATA\"), \"left\") \\\n",
        "    .join(airportsna.alias(\"d\"), departureDelays[\"destination\"] == col(\"d.IATA\"), \"left\") \\\n",
        "    .select(\n",
        "        \"date\", \"delay\", \"distance\",\n",
        "        col(\"o.city\").alias(\"origin_city\"),\n",
        "        col(\"d.city\").alias(\"destination_city\")\n",
        "    )\n",
        "\n",
        "# Create temp view\n",
        "combined.createOrReplaceTempView(\"combined\")"
      ]
    },
    {
      "cell_type": "markdown",
      "metadata": {
        "id": "nU2bDnFg5XZl"
      },
      "source": [
        "Shows first 5 rows"
      ]
    },
    {
      "cell_type": "code",
      "execution_count": null,
      "metadata": {
        "id": "egFHiMcv4qHY"
      },
      "outputs": [],
      "source": [
        "combined.show(5)"
      ]
    },
    {
      "cell_type": "markdown",
      "metadata": {
        "id": "4D4lFMMc5eGm"
      },
      "source": [
        "Prints rows of uncleaned data"
      ]
    },
    {
      "cell_type": "code",
      "execution_count": null,
      "metadata": {
        "colab": {
          "base_uri": "https://localhost:8080/"
        },
        "id": "xspLfO_95HqN",
        "outputId": "1dfabdab-8727-4d9e-c263-f40f671d8578"
      },
      "outputs": [
        {
          "data": {
            "text/plain": [
              "743245"
            ]
          },
          "execution_count": 8,
          "metadata": {},
          "output_type": "execute_result"
        }
      ],
      "source": [
        "combined.count()"
      ]
    },
    {
      "cell_type": "markdown",
      "metadata": {
        "id": "UG9K-Jza5hnD"
      },
      "source": [
        "Perform cleaning (Remove Duplicates)"
      ]
    },
    {
      "cell_type": "code",
      "execution_count": null,
      "metadata": {
        "id": "chcRsLPW48Su"
      },
      "outputs": [],
      "source": [
        "combined_cleaned = combined.dropDuplicates()"
      ]
    },
    {
      "cell_type": "markdown",
      "metadata": {
        "id": "J9Mkq9zS5lRp"
      },
      "source": [
        "Prints rows of cleaned data"
      ]
    },
    {
      "cell_type": "code",
      "execution_count": null,
      "metadata": {
        "colab": {
          "base_uri": "https://localhost:8080/"
        },
        "id": "EzoNZo2z5JRz",
        "outputId": "33a85b94-c41c-4721-ff09-5a5b402ee778"
      },
      "outputs": [
        {
          "data": {
            "text/plain": [
              "742958"
            ]
          },
          "execution_count": 9,
          "metadata": {},
          "output_type": "execute_result"
        }
      ],
      "source": [
        "combined_cleaned.count()"
      ]
    },
    {
      "cell_type": "markdown",
      "metadata": {
        "id": "eYtGSxbV6PSf"
      },
      "source": [
        "## Step-by-Step ML Pipeline"
      ]
    },
    {
      "cell_type": "markdown",
      "metadata": {
        "id": "E1IVj_VH6SS-"
      },
      "source": [
        "### Step 1: Data Preparation & Feature Engineering\n"
      ]
    },
    {
      "cell_type": "code",
      "execution_count": null,
      "metadata": {
        "id": "qfq9fjnO6W33"
      },
      "outputs": [],
      "source": [
        "from pyspark.sql.functions import col, substring, when\n",
        "from pyspark.ml.feature import StringIndexer, OneHotEncoder, VectorAssembler\n",
        "from pyspark.ml import Pipeline\n",
        "from pyspark.ml.regression import RandomForestRegressor\n",
        "from pyspark.ml.evaluation import RegressionEvaluator\n",
        "\n",
        "combined_cleaned = combined_cleaned.withColumn(\"hour\", substring(col(\"date\"), 5, 2).cast(\"int\"))\n",
        "\n",
        "filtered_df = combined_cleaned.filter(col(\"origin_city\").isin(\"Allentown\", \"Atlanta\"))\n",
        "\n",
        "filtered_df = filtered_df.withColumn(\"delay\", col(\"delay\").cast(\"double\"))\n",
        "filtered_df = filtered_df.withColumn(\"delay\", col(\"delay\").cast(\"double\").alias(\"label\"))\n",
        "filtered_df = filtered_df.withColumn(\"delay\", when(col(\"delay\") < 0, 0).otherwise(col(\"delay\")))\n"
      ]
    },
    {
      "cell_type": "markdown",
      "metadata": {
        "id": "I19GZf9466sb"
      },
      "source": [
        "### Step 2: Indexing & Feature Encoding"
      ]
    },
    {
      "cell_type": "code",
      "execution_count": null,
      "metadata": {
        "id": "qBmrDbo-67_Y"
      },
      "outputs": [],
      "source": [
        "# Encode origin and destination cities\n",
        "origin_indexer = StringIndexer(inputCol=\"origin_city\", outputCol=\"origin_index\", handleInvalid=\"skip\") # skip rows with invalid data\n",
        "dest_indexer = StringIndexer(inputCol=\"destination_city\", outputCol=\"dest_index\", handleInvalid=\"skip\") # skip rows with invalid data\n",
        "\n",
        "# One-hot encoding (optional but improves modeling)\n",
        "origin_encoder = OneHotEncoder(inputCol=\"origin_index\", outputCol=\"origin_vec\")\n",
        "dest_encoder = OneHotEncoder(inputCol=\"dest_index\", outputCol=\"dest_vec\")\n"
      ]
    },
    {
      "cell_type": "markdown",
      "metadata": {
        "id": "XS4iLmFp7Aul"
      },
      "source": [
        "### Step 3: Assemble Features"
      ]
    },
    {
      "cell_type": "code",
      "execution_count": null,
      "metadata": {
        "id": "7mWiUTtx7CMw"
      },
      "outputs": [],
      "source": [
        "# Assemble all features into a single vector\n",
        "assembler = VectorAssembler(\n",
        "    inputCols=[\"distance\", \"hour\", \"origin_vec\", \"dest_vec\"],\n",
        "    outputCol=\"features\"\n",
        ")"
      ]
    },
    {
      "cell_type": "markdown",
      "metadata": {
        "id": "aUOOh-Kj7FZ7"
      },
      "source": [
        "### Step 4: Model & Pipeline"
      ]
    },
    {
      "cell_type": "code",
      "execution_count": null,
      "metadata": {
        "id": "_zRwb4VW7I3R"
      },
      "outputs": [],
      "source": [
        "# Use RandomForestRegressor to predict delay\n",
        "rf = RandomForestRegressor(featuresCol=\"features\", labelCol=\"delay\", predictionCol=\"prediction\")\n",
        "\n",
        "# ML Pipeline\n",
        "pipeline = Pipeline(stages=[\n",
        "    origin_indexer,\n",
        "    dest_indexer,\n",
        "    origin_encoder,\n",
        "    dest_encoder,\n",
        "    assembler,\n",
        "    rf\n",
        "])\n"
      ]
    },
    {
      "cell_type": "markdown",
      "metadata": {
        "id": "cwtfjenN7OA9"
      },
      "source": [
        "### Step 5: Train & Evaluate"
      ]
    },
    {
      "cell_type": "code",
      "execution_count": null,
      "metadata": {
        "colab": {
          "base_uri": "https://localhost:8080/"
        },
        "id": "TZwDolot7ROY",
        "outputId": "f8988bf8-5535-416a-ce5d-10be8bf82c81"
      },
      "outputs": [
        {
          "name": "stdout",
          "output_type": "stream",
          "text": [
            "📊 Root Mean Squared Error (RMSE) on test data: 36.52\n"
          ]
        }
      ],
      "source": [
        "# Split into training and test sets\n",
        "train_data, test_data = filtered_df.randomSplit([0.8, 0.2], seed=42)\n",
        "\n",
        "# Fit the pipeline\n",
        "model = pipeline.fit(train_data)\n",
        "\n",
        "# Predict on test data\n",
        "predictions = model.transform(test_data)\n",
        "\n",
        "# Evaluate model\n",
        "evaluator = RegressionEvaluator(\n",
        "    labelCol=\"delay\", predictionCol=\"prediction\", metricName=\"rmse\"\n",
        ")\n",
        "rmse = evaluator.evaluate(predictions)\n",
        "\n",
        "print(f\"Root Mean Squared Error (RMSE) on test data: {rmse:.2f}\")\n"
      ]
    },
    {
      "cell_type": "code",
      "execution_count": null,
      "metadata": {
        "colab": {
          "base_uri": "https://localhost:8080/"
        },
        "id": "C8d4ORcp8GG3",
        "outputId": "eb70c109-153b-48ce-8fc8-e52de81a9bf2"
      },
      "outputs": [
        {
          "name": "stdout",
          "output_type": "stream",
          "text": [
            "+-----------+----------------+--------+----+-----+------------------+\n",
            "|origin_city|destination_city|distance|hour|delay|        prediction|\n",
            "+-----------+----------------+--------+----+-----+------------------+\n",
            "|    Atlanta|         Orlando|     351|   6|  0.0| 8.326138587145183|\n",
            "|    Atlanta|       Charlotte|     197|   7|  1.0| 7.552062363974947|\n",
            "|    Atlanta|        New York|     662|   7| 18.0|11.687346074627168|\n",
            "|    Atlanta|           Tampa|     353|   7|  0.0| 8.264301834126815|\n",
            "|    Atlanta|          Boston|     822|   8|  2.0|10.694192596222884|\n",
            "|    Atlanta|         Houston|     599|   8|  0.0|11.275137982404708|\n",
            "|    Atlanta| West Palm Beach|     473|   8|  0.0|  9.20799319467891|\n",
            "|    Atlanta|         Houston|     605|   8| 11.0|11.275137982404708|\n",
            "|    Atlanta|         Detroit|     516|   8|  0.0|  9.36688623573643|\n",
            "|    Atlanta| Fort Lauderdale|     505|   8|  0.0| 8.264301834126815|\n",
            "+-----------+----------------+--------+----+-----+------------------+\n",
            "only showing top 10 rows\n",
            "\n"
          ]
        }
      ],
      "source": [
        "predictions.select(\"origin_city\", \"destination_city\", \"distance\", \"hour\", \"delay\", \"prediction\").show(10)\n"
      ]
    },
    {
      "cell_type": "markdown",
      "metadata": {
        "id": "fJ5dYvoR9G3-"
      },
      "source": [
        "## Results\n",
        "\n",
        "The model is, on average, 36.52 minutes off when predicting the actual flight delay.\n",
        "\n",
        "The lower the RMSE, the better the predictions.\n",
        "\n",
        "A perfect model would have an RMSE of 0 (no difference between predicted and actual delays).\n",
        "\n",
        "### Is 36.52 good?\n",
        "That depends on the range of your delay values:\n",
        "\n",
        "### Scenario\tInterpretation\n",
        "Most delays are < 10 minutes\tRMSE of 36.52 is high, model is struggling.\n",
        "Delays range from 0 to 200+ minutes\tRMSE of 36.52 is reasonable, especially for basic features.\n"
      ]
    },
    {
      "cell_type": "code",
      "execution_count": null,
      "metadata": {
        "colab": {
          "base_uri": "https://localhost:8080/"
        },
        "id": "qdRnG7bZF6cP",
        "outputId": "fbeae89a-c91f-4817-928d-123d082403ca"
      },
      "outputs": [
        {
          "name": "stdout",
          "output_type": "stream",
          "text": [
            "+-------+------------------+\n",
            "|summary|             delay|\n",
            "+-------+------------------+\n",
            "|  count|             59012|\n",
            "|   mean|15.432234121873517|\n",
            "| stddev|38.044117365421805|\n",
            "|    min|               0.0|\n",
            "|    max|             925.0|\n",
            "+-------+------------------+\n",
            "\n"
          ]
        }
      ],
      "source": [
        "# Get summary statistics for the 'delay' column\n",
        "filtered_df.select(\"delay\").describe().show()\n"
      ]
    },
    {
      "cell_type": "markdown",
      "metadata": {
        "id": "_wBBZBfUXb5p"
      },
      "source": [
        "## Conclusion\n",
        "\n",
        "Based on the range, RMSE of 36.52 is reasonable. We also tried doing this in other models, but we found out that using Random Forest is the most efficient in terms of speed and result."
      ]
    }
  ],
  "metadata": {
    "colab": {
      "authorship_tag": "ABX9TyNWNywkvtA40w+YmiPQ45QA",
      "include_colab_link": true,
      "provenance": []
    },
    "kernelspec": {
      "display_name": "Python 3",
      "name": "python3"
    },
    "language_info": {
      "name": "python"
    }
  },
  "nbformat": 4,
  "nbformat_minor": 0
}
